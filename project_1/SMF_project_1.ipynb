{
  "nbformat": 4,
  "nbformat_minor": 0,
  "metadata": {
    "colab": {
      "name": "SMF_project_1",
      "provenance": [],
      "collapsed_sections": [
        "DB4EWIdNwm68"
      ],
      "toc_visible": true
    },
    "kernelspec": {
      "display_name": "Python 3",
      "name": "python3"
    }
  },
  "cells": [
    {
      "cell_type": "code",
      "metadata": {
        "id": "_teEdeJlWSqF"
      },
      "source": [
        ""
      ],
      "execution_count": null,
      "outputs": []
    },
    {
      "cell_type": "markdown",
      "metadata": {
        "id": "0qhIARNwWTsC"
      },
      "source": [
        "Zakładamy, że dziś jest **2018-03-28**. \n",
        "- $S^1_t$ - wartość indeksu **WIG20**.\n",
        "- $S^2_t$ - wartość **KGHM**.\n",
        "Zakładamy, że dynamika cen zachowuje się następująco:\n",
        "$$ \\log \\left(\\frac{S^i_{t+1}}{S^i_{t}}\\right) = \\alpha_i N^i_t + \\beta_i, $$ gdzie \n",
        "$\\alpha_i, \\beta_i \\in \\mathbb{R}$, $N^i_t \\sim \\mathcal{N}(0, 1)$ \n",
        "oraz\n",
        "- $N^i_t, N^j_s$ są nzl dla $t \\neq s$ oraz dowolnych $i, j$.\n",
        "- $N^1_t, N^2_t$ mają stąłą korelację $\\rho$.\n"
      ]
    },
    {
      "cell_type": "markdown",
      "metadata": {
        "id": "NzI2YMPrY4_E"
      },
      "source": [
        "Rozważane opcje:\n",
        "- A - notowana na GPW opcja EC(K = 2200, T = grudzień 2018) o symbolu: **OW20L182200** dnia 2018-03-28 warta  [147,55 PLN](https://www.gpw.pl/archiwum-notowan?fetch=0&type=66&instrument=OW20L182200&date=28-03-2018&show_x=Poka%C5%BC+wyniki)\n",
        "- B\n",
        "- C\n",
        "- D\n",
        "- E\n",
        "\n",
        "Standardy opcji na GPW\n",
        "- [standard](https://www.gpw.pl/pub/GPW/files/PDF/standardy_pl/Standard_opcje_WIG20_1.12.2019.pdf?fbclid=IwAR3dQYsMjxdt9OVWbk71_GaJYnhGbdAIBID11YPsod3HZc_UuLUrYyk2EcU)\n",
        "- [KID opcje call](https://www.gpw.pl/pub/GPW/files/PDF/standardy_pl/KID/KID_GPW_opcje_long_short_call_PL.pdf?fbclid=IwAR3zCcHiYmQaMaKQ0N7y-nxYcPTs7o0R-gcXQRf2Byt9Y9nmPtxOPHFkDpQ)\n",
        "- [KID opcje put](https://www.gpw.pl/pub/GPW/files/PDF/standardy_pl/KID/KID_GPW_opcje_long_short_put_PL.pdf?fbclid=IwAR35-JtY7MFxmiuVtmnreBshRFDtC_vviUXGNVFys6oSRLcGqTNJ29f-pos)\n",
        "\n",
        "Nazwa skrócona opcji **OXYZkrrcccc**\n",
        "\n",
        "Gdzie:\n",
        "- O – rodzaj instrumentu,\n",
        "- XYZ – kod określający nazwę instrumentu bazowego \n",
        "- k – kod określający typ i miesiąc wygaśnięcia opcji\n",
        "- rr – dwie ostatnie cyfry roku wygaśnięcia,\n",
        "- cccc – kurs wykonania\n",
        "\n",
        "Miesiąc\tKod opcji kupna\tKod opcji sprzedaży"
      ]
    },
    {
      "cell_type": "code",
      "metadata": {
        "colab": {
          "base_uri": "https://localhost:8080/",
          "height": 421
        },
        "id": "51XIMePHdbTA",
        "outputId": "e96f7d1f-6065-49e9-9d57-45b1670258db"
      },
      "source": [
        "pd.DataFrame(np.array([['styczeń', 'A', 'M'],['luty'\t,'B'\t,'N'],['marzec'\t,'C'\t,'O'],['kwiecień'\t,'D'\t,'P'],['maj'\t,'E'\t,'Q'],['czerwiec'\t,'F'\t,'R'],['lipiec'\t,'G'\t,'S'],['sierpień'\t,'H'\t,'T'],['wrzesień'\t,'I'\t,'U'],['październik'\t,'J'\t,'V'],['listopad'\t,'K'\t,'W'],['grudzień'\t,'L'\t,'X'],]), columns=['miesiąc', 'call', 'put'])"
      ],
      "execution_count": 28,
      "outputs": [
        {
          "output_type": "execute_result",
          "data": {
            "text/html": [
              "<div>\n",
              "<style scoped>\n",
              "    .dataframe tbody tr th:only-of-type {\n",
              "        vertical-align: middle;\n",
              "    }\n",
              "\n",
              "    .dataframe tbody tr th {\n",
              "        vertical-align: top;\n",
              "    }\n",
              "\n",
              "    .dataframe thead th {\n",
              "        text-align: right;\n",
              "    }\n",
              "</style>\n",
              "<table border=\"1\" class=\"dataframe\">\n",
              "  <thead>\n",
              "    <tr style=\"text-align: right;\">\n",
              "      <th></th>\n",
              "      <th>miesiąc</th>\n",
              "      <th>call</th>\n",
              "      <th>put</th>\n",
              "    </tr>\n",
              "  </thead>\n",
              "  <tbody>\n",
              "    <tr>\n",
              "      <th>0</th>\n",
              "      <td>styczeń</td>\n",
              "      <td>A</td>\n",
              "      <td>M</td>\n",
              "    </tr>\n",
              "    <tr>\n",
              "      <th>1</th>\n",
              "      <td>luty</td>\n",
              "      <td>B</td>\n",
              "      <td>N</td>\n",
              "    </tr>\n",
              "    <tr>\n",
              "      <th>2</th>\n",
              "      <td>marzec</td>\n",
              "      <td>C</td>\n",
              "      <td>O</td>\n",
              "    </tr>\n",
              "    <tr>\n",
              "      <th>3</th>\n",
              "      <td>kwiecień</td>\n",
              "      <td>D</td>\n",
              "      <td>P</td>\n",
              "    </tr>\n",
              "    <tr>\n",
              "      <th>4</th>\n",
              "      <td>maj</td>\n",
              "      <td>E</td>\n",
              "      <td>Q</td>\n",
              "    </tr>\n",
              "    <tr>\n",
              "      <th>5</th>\n",
              "      <td>czerwiec</td>\n",
              "      <td>F</td>\n",
              "      <td>R</td>\n",
              "    </tr>\n",
              "    <tr>\n",
              "      <th>6</th>\n",
              "      <td>lipiec</td>\n",
              "      <td>G</td>\n",
              "      <td>S</td>\n",
              "    </tr>\n",
              "    <tr>\n",
              "      <th>7</th>\n",
              "      <td>sierpień</td>\n",
              "      <td>H</td>\n",
              "      <td>T</td>\n",
              "    </tr>\n",
              "    <tr>\n",
              "      <th>8</th>\n",
              "      <td>wrzesień</td>\n",
              "      <td>I</td>\n",
              "      <td>U</td>\n",
              "    </tr>\n",
              "    <tr>\n",
              "      <th>9</th>\n",
              "      <td>październik</td>\n",
              "      <td>J</td>\n",
              "      <td>V</td>\n",
              "    </tr>\n",
              "    <tr>\n",
              "      <th>10</th>\n",
              "      <td>listopad</td>\n",
              "      <td>K</td>\n",
              "      <td>W</td>\n",
              "    </tr>\n",
              "    <tr>\n",
              "      <th>11</th>\n",
              "      <td>grudzień</td>\n",
              "      <td>L</td>\n",
              "      <td>X</td>\n",
              "    </tr>\n",
              "  </tbody>\n",
              "</table>\n",
              "</div>"
            ],
            "text/plain": [
              "        miesiąc call put\n",
              "0       styczeń    A   M\n",
              "1          luty    B   N\n",
              "2        marzec    C   O\n",
              "3      kwiecień    D   P\n",
              "4           maj    E   Q\n",
              "5      czerwiec    F   R\n",
              "6        lipiec    G   S\n",
              "7      sierpień    H   T\n",
              "8      wrzesień    I   U\n",
              "9   październik    J   V\n",
              "10     listopad    K   W\n",
              "11     grudzień    L   X"
            ]
          },
          "metadata": {},
          "execution_count": 28
        }
      ]
    },
    {
      "cell_type": "code",
      "metadata": {
        "id": "j33DinKgStR-"
      },
      "source": [
        "import pandas as pd\n",
        "import math\n",
        "import numpy as np\n",
        "from scipy import stats\n",
        "from scipy import optimize\n",
        "import matplotlib.pyplot as plt\n",
        "from google.colab import files\n",
        "import matplotlib.mlab as mlab\n",
        "import string\n",
        "\n",
        "\n",
        "WIG_20 = np.array([\"ACP\",\"CDR\",\"JSW\",\"LTS\",\"PEO\",\"PKN\",\"SPL\",\"ALE\",\"CPS\",\"KGH\",\"MRC\",\"PGE\",\"PKO\",\"TPE\",\"CCC\",\"DNP\",\"LPP\",\"OPL\",\"PGN\",\"PZU\"])\n",
        "TRAINING_DATE_START = pd.to_datetime('2017-03-28')\n",
        "TRAINING_DATE_END = pd.to_datetime('2018-03-27')\n",
        "TODAY = pd.to_datetime('2018-03-28')\n",
        "RISK_FREE_R = 0.03"
      ],
      "execution_count": 140,
      "outputs": []
    },
    {
      "cell_type": "code",
      "metadata": {
        "id": "3iev2luiAQcH"
      },
      "source": [
        "def ReadAndPreprocess(url, ticker):\n",
        "    data = pd.read_csv(url)\n",
        "    data['Data'] = pd.to_datetime(data['Data'])\n",
        "    data['Zwroty_dzienne'] = data['Zamkniecie'].pct_change()\n",
        "    # log (S_{t+1} / S_t)\n",
        "    data['Log_ratio'] = np.log(data['Zamkniecie']/ data['Zamkniecie'].shift(1))\n",
        "    data['Company'] = ticker\n",
        "    return data\n",
        "  \n",
        "\n",
        "def ReadWig20DailyPrices(url_prefix = 'https://raw.githubusercontent.com/wfica/stochastic-fin-maths/main/notowania_wig_20/',):\n",
        "  df = pd.DataFrame()\n",
        "  for company in WIG_20:\n",
        "    url = url_prefix + company[:3].lower() + '_d.csv'\n",
        "    data = ReadAndPreprocess(url, company)\n",
        "    df = df.append(data, ignore_index=True)\n",
        "  data = ReadAndPreprocess(url_prefix +'wig20_d.csv', 'W20')\n",
        "  df = df.append(data, ignore_index=True)\n",
        "  return df\n",
        "\n",
        "\n",
        "wig_20_all = ReadWig20DailyPrices()"
      ],
      "execution_count": 47,
      "outputs": []
    },
    {
      "cell_type": "code",
      "metadata": {
        "colab": {
          "base_uri": "https://localhost:8080/",
          "height": 419
        },
        "id": "mNUmxojZKZ7v",
        "outputId": "e4b9d8e7-1810-4306-9466-8c7424bbc69c"
      },
      "source": [
        "wig_20_all"
      ],
      "execution_count": 48,
      "outputs": [
        {
          "output_type": "execute_result",
          "data": {
            "text/html": [
              "<div>\n",
              "<style scoped>\n",
              "    .dataframe tbody tr th:only-of-type {\n",
              "        vertical-align: middle;\n",
              "    }\n",
              "\n",
              "    .dataframe tbody tr th {\n",
              "        vertical-align: top;\n",
              "    }\n",
              "\n",
              "    .dataframe thead th {\n",
              "        text-align: right;\n",
              "    }\n",
              "</style>\n",
              "<table border=\"1\" class=\"dataframe\">\n",
              "  <thead>\n",
              "    <tr style=\"text-align: right;\">\n",
              "      <th></th>\n",
              "      <th>Data</th>\n",
              "      <th>Otwarcie</th>\n",
              "      <th>Najwyzszy</th>\n",
              "      <th>Najnizszy</th>\n",
              "      <th>Zamkniecie</th>\n",
              "      <th>Wolumen</th>\n",
              "      <th>Zwroty_dzienne</th>\n",
              "      <th>Log_ratio</th>\n",
              "      <th>Company</th>\n",
              "    </tr>\n",
              "  </thead>\n",
              "  <tbody>\n",
              "    <tr>\n",
              "      <th>0</th>\n",
              "      <td>2015-06-02</td>\n",
              "      <td>43.613</td>\n",
              "      <td>43.750</td>\n",
              "      <td>43.361</td>\n",
              "      <td>43.361</td>\n",
              "      <td>301234.0</td>\n",
              "      <td>NaN</td>\n",
              "      <td>NaN</td>\n",
              "      <td>ACP</td>\n",
              "    </tr>\n",
              "    <tr>\n",
              "      <th>1</th>\n",
              "      <td>2015-06-03</td>\n",
              "      <td>43.470</td>\n",
              "      <td>44.190</td>\n",
              "      <td>43.002</td>\n",
              "      <td>43.002</td>\n",
              "      <td>379703.0</td>\n",
              "      <td>-0.008279</td>\n",
              "      <td>-0.008314</td>\n",
              "      <td>ACP</td>\n",
              "    </tr>\n",
              "    <tr>\n",
              "      <th>2</th>\n",
              "      <td>2015-06-05</td>\n",
              "      <td>42.315</td>\n",
              "      <td>42.698</td>\n",
              "      <td>41.098</td>\n",
              "      <td>41.133</td>\n",
              "      <td>161965.0</td>\n",
              "      <td>-0.043463</td>\n",
              "      <td>-0.044436</td>\n",
              "      <td>ACP</td>\n",
              "    </tr>\n",
              "    <tr>\n",
              "      <th>3</th>\n",
              "      <td>2015-06-08</td>\n",
              "      <td>41.494</td>\n",
              "      <td>42.423</td>\n",
              "      <td>41.278</td>\n",
              "      <td>42.207</td>\n",
              "      <td>237014.0</td>\n",
              "      <td>0.026110</td>\n",
              "      <td>0.025775</td>\n",
              "      <td>ACP</td>\n",
              "    </tr>\n",
              "    <tr>\n",
              "      <th>4</th>\n",
              "      <td>2015-06-09</td>\n",
              "      <td>42.207</td>\n",
              "      <td>42.885</td>\n",
              "      <td>41.485</td>\n",
              "      <td>42.244</td>\n",
              "      <td>136809.0</td>\n",
              "      <td>0.000877</td>\n",
              "      <td>0.000876</td>\n",
              "      <td>ACP</td>\n",
              "    </tr>\n",
              "    <tr>\n",
              "      <th>...</th>\n",
              "      <td>...</td>\n",
              "      <td>...</td>\n",
              "      <td>...</td>\n",
              "      <td>...</td>\n",
              "      <td>...</td>\n",
              "      <td>...</td>\n",
              "      <td>...</td>\n",
              "      <td>...</td>\n",
              "      <td>...</td>\n",
              "    </tr>\n",
              "    <tr>\n",
              "      <th>85127</th>\n",
              "      <td>2021-10-20</td>\n",
              "      <td>2447.070</td>\n",
              "      <td>2453.570</td>\n",
              "      <td>2432.330</td>\n",
              "      <td>2443.110</td>\n",
              "      <td>22261931.0</td>\n",
              "      <td>-0.001810</td>\n",
              "      <td>-0.001812</td>\n",
              "      <td>W20</td>\n",
              "    </tr>\n",
              "    <tr>\n",
              "      <th>85128</th>\n",
              "      <td>2021-10-21</td>\n",
              "      <td>2433.750</td>\n",
              "      <td>2433.750</td>\n",
              "      <td>2418.230</td>\n",
              "      <td>2427.350</td>\n",
              "      <td>18086091.0</td>\n",
              "      <td>-0.006451</td>\n",
              "      <td>-0.006472</td>\n",
              "      <td>W20</td>\n",
              "    </tr>\n",
              "    <tr>\n",
              "      <th>85129</th>\n",
              "      <td>2021-10-22</td>\n",
              "      <td>2425.020</td>\n",
              "      <td>2436.870</td>\n",
              "      <td>2412.570</td>\n",
              "      <td>2417.090</td>\n",
              "      <td>16121524.0</td>\n",
              "      <td>-0.004227</td>\n",
              "      <td>-0.004236</td>\n",
              "      <td>W20</td>\n",
              "    </tr>\n",
              "    <tr>\n",
              "      <th>85130</th>\n",
              "      <td>2021-10-25</td>\n",
              "      <td>2415.520</td>\n",
              "      <td>2430.620</td>\n",
              "      <td>2415.520</td>\n",
              "      <td>2427.190</td>\n",
              "      <td>16544470.0</td>\n",
              "      <td>0.004179</td>\n",
              "      <td>0.004170</td>\n",
              "      <td>W20</td>\n",
              "    </tr>\n",
              "    <tr>\n",
              "      <th>85131</th>\n",
              "      <td>2021-10-26</td>\n",
              "      <td>2429.410</td>\n",
              "      <td>2442.530</td>\n",
              "      <td>2417.030</td>\n",
              "      <td>2425.290</td>\n",
              "      <td>19904199.0</td>\n",
              "      <td>-0.000783</td>\n",
              "      <td>-0.000783</td>\n",
              "      <td>W20</td>\n",
              "    </tr>\n",
              "  </tbody>\n",
              "</table>\n",
              "<p>85132 rows × 9 columns</p>\n",
              "</div>"
            ],
            "text/plain": [
              "            Data  Otwarcie  Najwyzszy  ...  Zwroty_dzienne  Log_ratio  Company\n",
              "0     2015-06-02    43.613     43.750  ...             NaN        NaN      ACP\n",
              "1     2015-06-03    43.470     44.190  ...       -0.008279  -0.008314      ACP\n",
              "2     2015-06-05    42.315     42.698  ...       -0.043463  -0.044436      ACP\n",
              "3     2015-06-08    41.494     42.423  ...        0.026110   0.025775      ACP\n",
              "4     2015-06-09    42.207     42.885  ...        0.000877   0.000876      ACP\n",
              "...          ...       ...        ...  ...             ...        ...      ...\n",
              "85127 2021-10-20  2447.070   2453.570  ...       -0.001810  -0.001812      W20\n",
              "85128 2021-10-21  2433.750   2433.750  ...       -0.006451  -0.006472      W20\n",
              "85129 2021-10-22  2425.020   2436.870  ...       -0.004227  -0.004236      W20\n",
              "85130 2021-10-25  2415.520   2430.620  ...        0.004179   0.004170      W20\n",
              "85131 2021-10-26  2429.410   2442.530  ...       -0.000783  -0.000783      W20\n",
              "\n",
              "[85132 rows x 9 columns]"
            ]
          },
          "metadata": {},
          "execution_count": 48
        }
      ]
    },
    {
      "cell_type": "code",
      "metadata": {
        "id": "v_zgkhHVGNI2"
      },
      "source": [
        "def ComputeModelParams(df=wig_20_all, start_date=TRAINING_DATE_START, end_date=TRAINING_DATE_END, tickers = np.append(WIG_20, 'W20')):\n",
        "  stats = pd.DataFrame(columns=['Company', 'mean', 'std'])\n",
        "  for i, ticker in enumerate(tickers):\n",
        "    data = df[(df['Company'] == ticker) & (df['Data'] >= start_date) & (df['Data'] < end_date)]\n",
        "\n",
        "    # Średnia i odchylenie standardowe\n",
        "    mean = data['Zwroty_dzienne'].mean()\n",
        "    std =  data['Zwroty_dzienne'].std()\n",
        "\n",
        "    # Normujemy parametry\n",
        "    trading_days = data.shape[0]\n",
        "    mu = mean * trading_days\n",
        "    sigma = std * math.sqrt(trading_days)\n",
        "    \n",
        "    stats.loc[i] = [ticker, mu, sigma]\n",
        "  # stats = stats.set_index('Company')\n",
        "  return stats\n",
        "\n",
        "params = ComputeModelParams()"
      ],
      "execution_count": 88,
      "outputs": []
    },
    {
      "cell_type": "code",
      "metadata": {
        "colab": {
          "base_uri": "https://localhost:8080/",
          "height": 700
        },
        "id": "ImZAuU8RFAyh",
        "outputId": "e77640cc-9490-4843-978a-030b4bc193b8"
      },
      "source": [
        "params"
      ],
      "execution_count": 89,
      "outputs": [
        {
          "output_type": "execute_result",
          "data": {
            "text/html": [
              "<div>\n",
              "<style scoped>\n",
              "    .dataframe tbody tr th:only-of-type {\n",
              "        vertical-align: middle;\n",
              "    }\n",
              "\n",
              "    .dataframe tbody tr th {\n",
              "        vertical-align: top;\n",
              "    }\n",
              "\n",
              "    .dataframe thead th {\n",
              "        text-align: right;\n",
              "    }\n",
              "</style>\n",
              "<table border=\"1\" class=\"dataframe\">\n",
              "  <thead>\n",
              "    <tr style=\"text-align: right;\">\n",
              "      <th></th>\n",
              "      <th>Company</th>\n",
              "      <th>mean</th>\n",
              "      <th>std</th>\n",
              "    </tr>\n",
              "  </thead>\n",
              "  <tbody>\n",
              "    <tr>\n",
              "      <th>0</th>\n",
              "      <td>ACP</td>\n",
              "      <td>-0.098013</td>\n",
              "      <td>0.237382</td>\n",
              "    </tr>\n",
              "    <tr>\n",
              "      <th>1</th>\n",
              "      <td>CDR</td>\n",
              "      <td>0.469464</td>\n",
              "      <td>0.372601</td>\n",
              "    </tr>\n",
              "    <tr>\n",
              "      <th>2</th>\n",
              "      <td>JSW</td>\n",
              "      <td>0.362118</td>\n",
              "      <td>0.365446</td>\n",
              "    </tr>\n",
              "    <tr>\n",
              "      <th>3</th>\n",
              "      <td>LTS</td>\n",
              "      <td>0.101120</td>\n",
              "      <td>0.350194</td>\n",
              "    </tr>\n",
              "    <tr>\n",
              "      <th>4</th>\n",
              "      <td>PEO</td>\n",
              "      <td>0.005175</td>\n",
              "      <td>0.209975</td>\n",
              "    </tr>\n",
              "    <tr>\n",
              "      <th>5</th>\n",
              "      <td>PKN</td>\n",
              "      <td>-0.071262</td>\n",
              "      <td>0.345428</td>\n",
              "    </tr>\n",
              "    <tr>\n",
              "      <th>6</th>\n",
              "      <td>SPL</td>\n",
              "      <td>0.106418</td>\n",
              "      <td>0.293260</td>\n",
              "    </tr>\n",
              "    <tr>\n",
              "      <th>7</th>\n",
              "      <td>ALE</td>\n",
              "      <td>NaN</td>\n",
              "      <td>NaN</td>\n",
              "    </tr>\n",
              "    <tr>\n",
              "      <th>8</th>\n",
              "      <td>CPS</td>\n",
              "      <td>0.060417</td>\n",
              "      <td>0.229678</td>\n",
              "    </tr>\n",
              "    <tr>\n",
              "      <th>9</th>\n",
              "      <td>KGH</td>\n",
              "      <td>-0.244517</td>\n",
              "      <td>0.303003</td>\n",
              "    </tr>\n",
              "    <tr>\n",
              "      <th>10</th>\n",
              "      <td>MRC</td>\n",
              "      <td>-0.101795</td>\n",
              "      <td>0.323775</td>\n",
              "    </tr>\n",
              "    <tr>\n",
              "      <th>11</th>\n",
              "      <td>PGE</td>\n",
              "      <td>-0.106880</td>\n",
              "      <td>0.315040</td>\n",
              "    </tr>\n",
              "    <tr>\n",
              "      <th>12</th>\n",
              "      <td>PKO</td>\n",
              "      <td>0.240448</td>\n",
              "      <td>0.255532</td>\n",
              "    </tr>\n",
              "    <tr>\n",
              "      <th>13</th>\n",
              "      <td>TPE</td>\n",
              "      <td>-0.255682</td>\n",
              "      <td>0.299424</td>\n",
              "    </tr>\n",
              "    <tr>\n",
              "      <th>14</th>\n",
              "      <td>CCC</td>\n",
              "      <td>0.083026</td>\n",
              "      <td>0.311108</td>\n",
              "    </tr>\n",
              "    <tr>\n",
              "      <th>15</th>\n",
              "      <td>DNP</td>\n",
              "      <td>0.871663</td>\n",
              "      <td>0.286441</td>\n",
              "    </tr>\n",
              "    <tr>\n",
              "      <th>16</th>\n",
              "      <td>LPP</td>\n",
              "      <td>0.349575</td>\n",
              "      <td>0.307181</td>\n",
              "    </tr>\n",
              "    <tr>\n",
              "      <th>17</th>\n",
              "      <td>OPL</td>\n",
              "      <td>0.232169</td>\n",
              "      <td>0.284673</td>\n",
              "    </tr>\n",
              "    <tr>\n",
              "      <th>18</th>\n",
              "      <td>PGN</td>\n",
              "      <td>0.027815</td>\n",
              "      <td>0.257823</td>\n",
              "    </tr>\n",
              "    <tr>\n",
              "      <th>19</th>\n",
              "      <td>PZU</td>\n",
              "      <td>0.250469</td>\n",
              "      <td>0.237417</td>\n",
              "    </tr>\n",
              "    <tr>\n",
              "      <th>20</th>\n",
              "      <td>W20</td>\n",
              "      <td>0.028992</td>\n",
              "      <td>0.152215</td>\n",
              "    </tr>\n",
              "  </tbody>\n",
              "</table>\n",
              "</div>"
            ],
            "text/plain": [
              "   Company      mean       std\n",
              "0      ACP -0.098013  0.237382\n",
              "1      CDR  0.469464  0.372601\n",
              "2      JSW  0.362118  0.365446\n",
              "3      LTS  0.101120  0.350194\n",
              "4      PEO  0.005175  0.209975\n",
              "5      PKN -0.071262  0.345428\n",
              "6      SPL  0.106418  0.293260\n",
              "7      ALE       NaN       NaN\n",
              "8      CPS  0.060417  0.229678\n",
              "9      KGH -0.244517  0.303003\n",
              "10     MRC -0.101795  0.323775\n",
              "11     PGE -0.106880  0.315040\n",
              "12     PKO  0.240448  0.255532\n",
              "13     TPE -0.255682  0.299424\n",
              "14     CCC  0.083026  0.311108\n",
              "15     DNP  0.871663  0.286441\n",
              "16     LPP  0.349575  0.307181\n",
              "17     OPL  0.232169  0.284673\n",
              "18     PGN  0.027815  0.257823\n",
              "19     PZU  0.250469  0.237417\n",
              "20     W20  0.028992  0.152215"
            ]
          },
          "metadata": {},
          "execution_count": 89
        }
      ]
    },
    {
      "cell_type": "code",
      "metadata": {
        "id": "i9LbSQTcVATa",
        "colab": {
          "base_uri": "https://localhost:8080/",
          "height": 607
        },
        "outputId": "58dc6aa7-2cbc-4046-8a82-8c855f809b64"
      },
      "source": [
        "# Confirm that mu is reasonable.\n",
        "\n",
        "def MuBasedPred(_trading_days, , plot_start, ticker = 'W20'):\n",
        "  # _trading_days = wig_20_plot['Data'].shape[0]\n",
        "  _dt = 1./_trading_days\n",
        "  init_price = wig_20_all[ (wig_20_all['Data'] == plot_start) & (wig_20_all['Company'] == ticker)]['Zamkniecie'].item()\n",
        "  estimated_mu = params[params['Company'] == ticker]['mean'].item()\n",
        "\n",
        "  simple_preds = np.full(_trading_days, wig20_init_price)\n",
        "  for i in range(1, _trading_days):\n",
        "    simple_preds[i] = simple_preds[i-1] * (1. + estimated_mu*_dt)\n",
        "  return simple_preds \n",
        "\n",
        "plot_start = TRAINING_DATE_START\n",
        "plot_end = TRAINING_DATE_END #+ pd.DateOffset(years=1)\n",
        "wig_20_plot = wig_20_all.loc[(wig_20_all['Data'] >= plot_start) & (wig_20_all['Data'] < plot_end) & (wig_20_all['Company'] == 'W20') ]\n",
        "\n",
        "plt.figure(figsize=(20,10))\n",
        "plt.plot(wig_20_plot['Data'],wig_20_plot['Zamkniecie'] ,label='Prawdziwa trajektoria' )\n",
        "plt.title('Cena WIG20.')\n",
        "\n",
        "simple_preds = MuBasedPred( wig_20_plot['Data'].shape[0], plot_start)\n",
        "plt.plot(wig_20_plot['Data'], simple_preds, label = 'Predykcja oparta na średniej')\n",
        "plt.legend()\n",
        "plt.show()\n",
        "# plt.savefig('wig20_cena.png', bbox_inches = 'tight', pad_inches = 0.01)\n",
        "# files.download('wig20_cena.png')"
      ],
      "execution_count": 118,
      "outputs": [
        {
          "output_type": "display_data",
          "data": {
            "image/png": "[encoded data removed]",
            "text/plain": [
              "<Figure size 1440x720 with 1 Axes>"
            ]
          },
          "metadata": {
            "needs_background": "light"
          }
        }
      ]
    },
    {
      "cell_type": "markdown",
      "metadata": {
        "id": "vJBXVxVCv7i7"
      },
      "source": [
        "## Część I.3\n",
        "\n",
        "Będziemy badać portfel składający się z opcji na indeks, indeksu i pieniędzy (inwestycji wolnej od ryzyka). Skorzystamy z formuły Blacka-Scholesa na cenę opcji call. Mamy:\n",
        "\n",
        "$$V_{call}=SN(d_1)-Ee^{-r(T-t)}N(d_2),$$\n",
        "gdzie $N(x)$ jest dystrybuantą rozkładu normalnego, $S$ to obecna cena indeksu, $E$ to strike rozważanej opcji, $r$ to stopa procentowa, $T$ to chwila wykonania, a $t$ to chwila obecna (wyrażane w latach). Dodatkowo,\n",
        "\n",
        "$d_1=\\frac{log(\\frac{S}{E})+(r+\\frac{\\sigma^2}{2})(T-t)} {\\sigma \\sqrt{T-t}}$ oraz $d_2=d_1-\\sigma(T-t)$.\n",
        "\n",
        "Nie znamy dokładnej wartości $\\sigma$, więc korzystamy z tego co wyliczyliśmy na początku na podstawie danych historycznych. Dzięki call-put parity, czyli równaniu $V_{call}+Ee^{-r(T-t)}=V_{put}+S$ wyliczymy cenę odpowiedniej opcji put. Korzystając z liczonych wczesniej trajektorii ceny indeksu, zbadamy rozkład zysku z naszego portfela dla różnych opcji w zależności od liczby rehedgingów. "
      ]
    },
    {
      "cell_type": "code",
      "metadata": {
        "id": "JfhLkp-3vA4C"
      },
      "source": [
        "def d1(S,E,t,T,si,r):\n",
        "  return (math.log(S/E)+(r+(si*si)/2)*(T-t)/250)/(si*math.sqrt((T-t)/250))\n",
        "\n",
        "def d2(S,E,t,T,si,r):\n",
        "  return d1(S,E,t,T,si,r)-si*(T-t)/250\n",
        "\n",
        "# ceny opcji w chwili t, gdy cena jest S\n",
        "def vcall(S,E,t,T,si,r):\n",
        "  V = S*stats.norm.cdf(d1(S,E,t,T,si,r))-E*math.exp(-r*(T-t)/250)*stats.norm.cdf(d2(S,E,t,T,si,r))\n",
        "  return V\n",
        "\n",
        "def vput(S,E,t,T,si,r):\n",
        "  return vcall(S,E,t,T,si,r)+E*math.exp(-r*(T-t)/250)-S\n",
        "\n",
        "# delta do zabezpieczenia opcji\n",
        "def delta_call(S,E,t,T,si,r):\n",
        "  return stats.norm.cdf(d1(S,E,t,T,si,r))\n",
        "\n",
        "def delta_put(S,E,t,T,si,r):\n",
        "  return stats.norm.cdf(d1(S,E,t,T,si,r))-1\n",
        "\n",
        "\n",
        "\n",
        "def call_payoff(price_at_exp, strike):\n",
        "  return max(0., price_at_exp-strike)\n",
        "\n",
        "def put_payoff(price_at_exp, strike):\n",
        "  return max(0., strike - price_at_exp)\n",
        "\n"
      ],
      "execution_count": 132,
      "outputs": []
    },
    {
      "cell_type": "code",
      "metadata": {
        "id": "LZxfeby1vedB"
      },
      "source": [
        "wig20_today_price = wig_20_all[ (wig_20_all['Data'] == TODAY) & (wig_20_all['Company'] == 'W20')]['Zamkniecie'].item()\n",
        "wig20_sigma = params[params['Company'] == 'W20']['std'].item()"
      ],
      "execution_count": 133,
      "outputs": []
    },
    {
      "cell_type": "code",
      "metadata": {
        "colab": {
          "base_uri": "https://localhost:8080/"
        },
        "id": "A9Lwg60VvEh0",
        "outputId": "27a1e389-2fe6-46f8-b13d-aabd267cd66f"
      },
      "source": [
        "wig20_today_bs_price = vcall(wig20_today_price,2200,0,int(0.75*250),wig20_sigma,RISK_FREE_R)\n",
        "print('Cena BS {} PLN.'.format(wig20_today_bs_price))\n",
        "print('Cena na GPW  147,55 PLN.')\n"
      ],
      "execution_count": 145,
      "outputs": [
        {
          "output_type": "stream",
          "name": "stdout",
          "text": [
            "Cena BS 127.29884002335302 PLN.\n",
            "Cena na GPW  147,55 PLN.\n"
          ]
        }
      ]
    },
    {
      "cell_type": "markdown",
      "metadata": {
        "id": "DB4EWIdNwm68"
      },
      "source": [
        "# PLAYGROUND "
      ]
    },
    {
      "cell_type": "code",
      "metadata": {
        "id": "BT2WApvKwmDx"
      },
      "source": [
        ""
      ],
      "execution_count": null,
      "outputs": []
    },
    {
      "cell_type": "code",
      "metadata": {
        "colab": {
          "base_uri": "https://localhost:8080/"
        },
        "id": "wTIBdbTIt_Fl",
        "outputId": "4dde5ab5-bdcd-462f-9ffa-169160284812"
      },
      "source": [
        "# !pip install swig\n",
        "# !pip install vollib"
      ],
      "execution_count": 124,
      "outputs": [
        {
          "output_type": "stream",
          "name": "stdout",
          "text": [
            "\u001b[31mERROR: Could not find a version that satisfies the requirement swig (from versions: none)\u001b[0m\n",
            "\u001b[31mERROR: No matching distribution found for swig\u001b[0m\n",
            "Collecting vollib\n",
            "  Using cached vollib-0.1.5-py3-none-any.whl\n",
            "Requirement already satisfied: simplejson in /usr/local/lib/python3.7/dist-packages (from vollib) (3.17.5)\n",
            "Requirement already satisfied: pandas in /usr/local/lib/python3.7/dist-packages (from vollib) (1.1.5)\n",
            "Requirement already satisfied: numpy in /usr/local/lib/python3.7/dist-packages (from vollib) (1.19.5)\n",
            "Collecting lets-be-rational\n",
            "  Using cached lets_be_rational-1.0.9.tar.gz (51 kB)\n",
            "Requirement already satisfied: python-dateutil>=2.7.3 in /usr/local/lib/python3.7/dist-packages (from pandas->vollib) (2.8.2)\n",
            "Requirement already satisfied: pytz>=2017.2 in /usr/local/lib/python3.7/dist-packages (from pandas->vollib) (2018.9)\n",
            "Requirement already satisfied: six>=1.5 in /usr/local/lib/python3.7/dist-packages (from python-dateutil>=2.7.3->pandas->vollib) (1.15.0)\n",
            "Building wheels for collected packages: lets-be-rational\n",
            "  Building wheel for lets-be-rational (setup.py) ... \u001b[?25lerror\n",
            "\u001b[31m  ERROR: Failed building wheel for lets-be-rational\u001b[0m\n",
            "\u001b[?25h  Running setup.py clean for lets-be-rational\n",
            "Failed to build lets-be-rational\n",
            "Installing collected packages: lets-be-rational, vollib\n",
            "    Running setup.py install for lets-be-rational ... \u001b[?25l\u001b[?25herror\n",
            "\u001b[31mERROR: Command errored out with exit status 1: /usr/bin/python3 -u -c 'import io, os, sys, setuptools, tokenize; sys.argv[0] = '\"'\"'/tmp/pip-install-n0h8p20z/lets-be-rational_633332f8c12d43f0a191b2ee9b1f6c8e/setup.py'\"'\"'; __file__='\"'\"'/tmp/pip-install-n0h8p20z/lets-be-rational_633332f8c12d43f0a191b2ee9b1f6c8e/setup.py'\"'\"';f = getattr(tokenize, '\"'\"'open'\"'\"', open)(__file__) if os.path.exists(__file__) else io.StringIO('\"'\"'from setuptools import setup; setup()'\"'\"');code = f.read().replace('\"'\"'\\r\\n'\"'\"', '\"'\"'\\n'\"'\"');f.close();exec(compile(code, __file__, '\"'\"'exec'\"'\"'))' install --record /tmp/pip-record-56v13u_w/install-record.txt --single-version-externally-managed --compile --install-headers /usr/local/include/python3.7/lets-be-rational Check the logs for full command output.\u001b[0m\n"
          ]
        }
      ]
    },
    {
      "cell_type": "code",
      "metadata": {
        "colab": {
          "base_uri": "https://localhost:8080/",
          "height": 299
        },
        "id": "pT3zcPp3t5cD",
        "outputId": "68772ab4-c2ab-432c-a00b-168140d0dd78"
      },
      "source": [
        "# import vollib.black_scholes as black_scholes"
      ],
      "execution_count": 121,
      "outputs": [
        {
          "output_type": "error",
          "ename": "ModuleNotFoundError",
          "evalue": "ignored",
          "traceback": [
            "\u001b[0;31m---------------------------------------------------------------------------\u001b[0m",
            "\u001b[0;31mModuleNotFoundError\u001b[0m                       Traceback (most recent call last)",
            "\u001b[0;32m<ipython-input-121-48ddb9ca3703>\u001b[0m in \u001b[0;36m<module>\u001b[0;34m()\u001b[0m\n\u001b[0;32m----> 1\u001b[0;31m \u001b[0;32mimport\u001b[0m \u001b[0mvollib\u001b[0m\u001b[0;34m.\u001b[0m\u001b[0mblack_scholes\u001b[0m \u001b[0;32mas\u001b[0m \u001b[0mblack_scholes\u001b[0m\u001b[0;34m\u001b[0m\u001b[0;34m\u001b[0m\u001b[0m\n\u001b[0m",
            "\u001b[0;31mModuleNotFoundError\u001b[0m: No module named 'vollib'",
            "",
            "\u001b[0;31m---------------------------------------------------------------------------\u001b[0;32m\nNOTE: If your import is failing due to a missing package, you can\nmanually install dependencies using either !pip or !apt.\n\nTo view examples of installing some common dependencies, click the\n\"Open Examples\" button below.\n\u001b[0;31m---------------------------------------------------------------------------\u001b[0m\n"
          ],
          "errorDetails": {
            "actions": [
              {
                "action": "open_url",
                "actionText": "Open Examples",
                "url": "/notebooks/snippets/importing_libraries.ipynb"
              }
            ]
          }
        }
      ]
    },
    {
      "cell_type": "code",
      "metadata": {
        "id": "291eY8BumweM"
      },
      "source": [
        "_trading_days = wig_20_plot['Data'].shape[0]\n",
        "_dt = 1./_trading_days\n",
        "wig20_init_price = wig_20_all[ (wig_20_all['Data'] == plot_start) & (wig_20_all['Company'] == 'W20')]['Zamkniecie'].item()\n",
        "wig20_estimated_mu = params[params['Company'] == 'W20']['mean'].item()"
      ],
      "execution_count": 100,
      "outputs": []
    },
    {
      "cell_type": "code",
      "metadata": {
        "id": "qo13Kt4OhDyZ"
      },
      "source": [
        "simple_preds = np.full(_trading_days, wig20_init_price)\n",
        "for i in range(1, _trading_days):\n",
        "  simple_preds[i] = simple_preds[i-1] * (1. + wig20_estimated_mu*_dt)\n",
        "simple_preds = MuBasedPred( wig_20_plot['Data'].shape[0])\n"
      ],
      "execution_count": 106,
      "outputs": []
    },
    {
      "cell_type": "code",
      "metadata": {
        "colab": {
          "base_uri": "https://localhost:8080/",
          "height": 282
        },
        "id": "FAn_VKSJqfSj",
        "outputId": "4dd99287-46eb-4ca0-b0d0-903580b5f42a"
      },
      "source": [
        "plt.plot(wig_20_plot['Data'], simple_preds)"
      ],
      "execution_count": 107,
      "outputs": [
        {
          "output_type": "execute_result",
          "data": {
            "text/plain": [
              "[<matplotlib.lines.Line2D at 0x7ff252c49f90>]"
            ]
          },
          "metadata": {},
          "execution_count": 107
        },
        {
          "output_type": "display_data",
          "data": {
            "image/png": "[encoded data removed]",
            "text/plain": [
              "<Figure size 432x288 with 1 Axes>"
            ]
          },
          "metadata": {
            "needs_background": "light"
          }
        }
      ]
    },
    {
      "cell_type": "code",
      "metadata": {
        "id": "FpRiG6tcaadi",
        "colab": {
          "base_uri": "https://localhost:8080/",
          "height": 456
        },
        "outputId": "5d489d5e-117e-4aa4-f3ab-cad00d3fc13e"
      },
      "source": [
        "||plt.hist(wig_20_daily_td['Returns'].values.flatten(), bins=30)\n",
        "# wig_20_daily_td['Returns'].values.flatten().shape"
      ],
      "execution_count": null,
      "outputs": [
        {
          "output_type": "execute_result",
          "data": {
            "text/plain": [
              "(array([ 1.,  0.,  0.,  0.,  1.,  1.,  2.,  5.,  4.,  1.,  6.,  5., 16.,\n",
              "        13., 21., 27., 21., 35., 22., 16., 15., 14.,  7.,  5.,  3.,  4.,\n",
              "         2.,  2.,  0.,  2.]),\n",
              " array([-0.04533611, -0.04262867, -0.03992123, -0.03721379, -0.03450635,\n",
              "        -0.03179892, -0.02909148, -0.02638404, -0.0236766 , -0.02096916,\n",
              "        -0.01826172, -0.01555428, -0.01284684, -0.0101394 , -0.00743196,\n",
              "        -0.00472453, -0.00201709,  0.00069035,  0.00339779,  0.00610523,\n",
              "         0.00881267,  0.01152011,  0.01422755,  0.01693499,  0.01964242,\n",
              "         0.02234986,  0.0250573 ,  0.02776474,  0.03047218,  0.03317962,\n",
              "         0.03588706]),\n",
              " <a list of 30 Patch objects>)"
            ]
          },
          "metadata": {
            "tags": []
          },
          "execution_count": 46
        },
        {
          "output_type": "display_data",
          "data": {
            "image/png": "[encoded data removed]",
            "text/plain": [
              "<Figure size 432x288 with 1 Axes>"
            ]
          },
          "metadata": {
            "tags": [],
            "needs_background": "light"
          }
        }
      ]
    }
  ]
}